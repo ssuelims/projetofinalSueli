{
 "cells": [
  {
   "cell_type": "markdown",
   "metadata": {},
   "source": [
    "# PROJETO FINAL "
   ]
  },
  {
   "cell_type": "markdown",
   "metadata": {},
   "source": [
    "## O problema"
   ]
  },
  {
   "cell_type": "markdown",
   "metadata": {},
   "source": [
    "Empresas de costura enfrentam dificuldades para entender rapidamente as opiniões de seus clientes sobre produtos e serviços oferecidos. O objetivo deste projeto é fornecer uma ferramenta de análise de sentimentos para categorizar as avaliações de clientes como positivas ou negativas, ajudando a identificar áreas de melhoria."
   ]
  },
  {
   "cell_type": "markdown",
   "metadata": {},
   "source": [
    "## Qual o experimento? "
   ]
  },
  {
   "cell_type": "markdown",
   "metadata": {},
   "source": [
    "O experimento envolve a aplicação de técnicas de **Processamento de Linguagem Natural (PLN)** para identificar o sentimento de avaliações sobre produtos e serviços de costura. Usaremos um modelo pré-treinado para determinar se uma avaliação é positiva ou negativa, simplificando a análise de feedback."
   ]
  },
  {
   "cell_type": "markdown",
   "metadata": {},
   "source": [
    "## Sobre o Dataset"
   ]
  },
  {
   "cell_type": "markdown",
   "metadata": {},
   "source": [
    "O dataset utilizado será composto por avaliações de clientes sobre **produtos e serviços de costura**, classificadas como \"positivas\" ou \"negativas\". Caso não seja possível usar avaliações reais, podemos gerar um pequeno dataset de exemplo."
   ]
  },
  {
   "cell_type": "markdown",
   "metadata": {},
   "source": [
    "##  Variaveis Independentes e Dependentes"
   ]
  },
  {
   "cell_type": "markdown",
   "metadata": {},
   "source": [
    "Variáveis Independentes e Dependentes\n",
    "- **Variável Independente**: O texto da avaliação (entrada).\n",
    "- **Variável Dependente**: O sentimento da avaliação (positiva ou negativa)."
   ]
  },
  {
   "cell_type": "markdown",
   "metadata": {},
   "source": [
    "## Machine Learning"
   ]
  },
  {
   "cell_type": "markdown",
   "metadata": {},
   "source": [
    "Utilizaremos o **TextBlob** para realizar a análise de sentimentos. O modelo será treinado para identificar a polaridade das avaliações de clientes sobre produtos e serviços de costura."
   ]
  },
  {
   "cell_type": "markdown",
   "metadata": {},
   "source": [
    "## Deep Learning"
   ]
  },
  {
   "cell_type": "markdown",
   "metadata": {},
   "source": [
    "para este projeto focaremos em uma solução mais simples, usando **TextBlob**."
   ]
  },
  {
   "cell_type": "markdown",
   "metadata": {},
   "source": [
    "## Visao Computacional"
   ]
  },
  {
   "cell_type": "markdown",
   "metadata": {},
   "source": []
  },
  {
   "cell_type": "markdown",
   "metadata": {},
   "source": [
    "## PLN( Processo de Linguagem natuaral)"
   ]
  },
  {
   "cell_type": "markdown",
   "metadata": {},
   "source": [
    "O projeto utiliza **PLN** para interpretar o texto das avaliações e determinar se o sentimento é positivo, negativo ou neutro.                            O **TextBlob** será utilizado para fazer essa análise através da polaridade das frases."
   ]
  },
  {
   "cell_type": "code",
   "execution_count": null,
   "metadata": {},
   "outputs": [],
   "source": [
    "pip install streamlit textblob pandas matplotlib"
   ]
  },
  {
   "cell_type": "code",
   "execution_count": 3,
   "metadata": {},
   "outputs": [],
   "source": [
    "import streamlit as st\n",
    "from textblob import TextBlob\n",
    "import pandas as pd\n",
    "import matplotlib.pyplot as plt"
   ]
  },
  {
   "cell_type": "code",
   "execution_count": null,
   "metadata": {},
   "outputs": [],
   "source": [
    "## Titulo do projeto\n",
    "st.title(\"Analise simplificada de sentimento em Avaliaçao de produtos e serviços de costura\")\n",
    "\n",
    "## Texto para inserir Avaliaçoes\n",
    "st.subheader(\"Insira uma avaliação do produto ou serviço de costura:\")\n",
    "avaliacao = st.text_area(\"Digite a avaliação aqui...\")\n",
    "\n",
    "\n",
    "## Definindo a funçao para analisar sentimentos\n",
    "\n",
    "def analisar_sentimento(texto):\n",
    "    analise = TextBlob(texto)\n",
    "    if analisar_sentimento.polarity>0:\n",
    "         return \"Positiva\"\n",
    "    elif analise.sentiment.polarity == 0:\n",
    "        return \"Neutra\"\n",
    "    else:\n",
    "        return \"Negativa\"\n",
    "    \n",
    "\n",
    "    ## Botao Para realizar a analise\n",
    "if st.button(\"Analisar\"):\n",
    "    resultado = analisar_sentimento(avaliacao)\n",
    "    st.write(f\"O sentimento da avaliação é: **{resultado}**\")\n",
    "\n",
    "    "
   ]
  }
 ],
 "metadata": {
  "kernelspec": {
   "display_name": ".venv",
   "language": "python",
   "name": "python3"
  },
  "language_info": {
   "codemirror_mode": {
    "name": "ipython",
    "version": 3
   },
   "file_extension": ".py",
   "mimetype": "text/x-python",
   "name": "python",
   "nbconvert_exporter": "python",
   "pygments_lexer": "ipython3",
   "version": "3.12.6"
  }
 },
 "nbformat": 4,
 "nbformat_minor": 2
}
